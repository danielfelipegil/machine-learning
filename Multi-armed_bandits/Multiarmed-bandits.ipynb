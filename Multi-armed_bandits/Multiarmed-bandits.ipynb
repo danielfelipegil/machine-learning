{
 "cells": [
  {
   "cell_type": "markdown",
   "metadata": {},
   "source": [
    "# COMP90051 Project 2"
   ]
  },
  {
   "cell_type": "code",
   "execution_count": 1,
   "metadata": {},
   "outputs": [],
   "source": [
    "# Do not edit. These are the only imports permitted.\n",
    "%matplotlib inline\n",
    "import numpy as np\n",
    "from numpy.linalg import inv\n",
    "import matplotlib.pyplot as plt\n",
    "from abc import ABC, abstractmethod"
   ]
  },
  {
   "cell_type": "code",
   "execution_count": 2,
   "metadata": {},
   "outputs": [],
   "source": [
    "df = np.loadtxt('dataset.txt')\n",
    "arms=df[:,0].astype(int).ravel()\n",
    "rewards=df[:,1].astype(int).ravel()\n",
    "contexts = df[:,2:102].astype(int)"
   ]
  },
  {
   "cell_type": "code",
   "execution_count": 3,
   "metadata": {},
   "outputs": [],
   "source": [
    "class MAB(ABC):\n",
    "    \"\"\"\n",
    "    Abstract class that represents a multi-armed bandit (MAB)\n",
    "    \"\"\"\n",
    "    \n",
    "    @abstractmethod\n",
    "    def play(self, tround, context):\n",
    "        \"\"\"\n",
    "        Play a round\n",
    "        \n",
    "        Arguments\n",
    "        =========\n",
    "        tround : int\n",
    "            positive integer identifying the round\n",
    "        \n",
    "        context : 1D float array, shape (self.ndims * self.narms), optional\n",
    "            context given to the arms\n",
    "        \n",
    "        Returns\n",
    "        =======\n",
    "        arm : int\n",
    "            the positive integer arm id for this round\n",
    "        \"\"\"\n",
    "    \n",
    "    @abstractmethod\n",
    "    def update(self, arm, reward, context):\n",
    "        \"\"\"\n",
    "        Updates the internal state of the MAB after a play\n",
    "        \n",
    "        Arguments\n",
    "        =========\n",
    "        arm : int\n",
    "            a positive integer arm id in {1, ..., self.narms}\n",
    "        \n",
    "        reward : float\n",
    "            reward received from arm\n",
    "        \n",
    "        context : 1D float array, shape (self.ndims * self.narms), optional\n",
    "            context given to arms\n",
    "        \"\"\""
   ]
  },
  {
   "cell_type": "code",
   "execution_count": 4,
   "metadata": {},
   "outputs": [],
   "source": [
    "class EpsGreedy(MAB):\n",
    "    \"\"\"\n",
    "    Epsilon-Greedy multi-armed bandit\n",
    "\n",
    "    Arguments\n",
    "    =========\n",
    "    narms : int\n",
    "        number of arms\n",
    "\n",
    "    epsilon : float\n",
    "        explore probability\n",
    "\n",
    "    Q0 : float, optional\n",
    "        initial value for the arms\n",
    "    \"\"\"\n",
    "    \n",
    "    def __init__(self, narms, epsilon, Q0=np.inf):\n",
    "        self.narms = narms\n",
    "        self.epsilon = epsilon\n",
    "        self.Q = np.full(self.narms,Q0)\n",
    "        self.arm_count = np.zeros(narms)\n",
    "        self.arm_rewards = np.zeros(narms)\n",
    "        \n",
    "    def play(self, tround, context=None):\n",
    "        max_arms=np.argwhere(self.Q == np.amax(self.Q)).flatten().tolist()\n",
    "        if np.random.random() > self.epsilon:\n",
    "            selected_arm=np.random.choice(np.argwhere(self.Q == np.amax(self.Q)).flatten().tolist())\n",
    "        else:\n",
    "            selected_arm=np.random.randint(self.narms)\n",
    "        \n",
    "        return selected_arm\n",
    "        \n",
    "    def update(self, arm, reward, context=None):\n",
    "        self.arm_count[arm] += 1.0\n",
    "        self.arm_rewards[arm] += reward\n",
    "        if self.arm_count[arm] != 0:\n",
    "            self.Q[arm]=float(self.arm_rewards[arm]) / float(self.arm_count[arm])\n",
    " "
   ]
  },
  {
   "cell_type": "code",
   "execution_count": 5,
   "metadata": {},
   "outputs": [],
   "source": [
    "class UCB(MAB):\n",
    "    \"\"\"\n",
    "    Upper Confidence Bound (UCB) multi-armed bandit\n",
    "\n",
    "    Arguments\n",
    "    =========\n",
    "    narms : int\n",
    "        number of arms\n",
    "\n",
    "    rho : float\n",
    "        positive real explore-exploit parameter\n",
    "\n",
    "    Q0 : float, optional\n",
    "        initial value for the arms\n",
    "    \"\"\"\n",
    "    \n",
    "    def __init__(self, narms, rho, Q0=np.inf):\n",
    "        self.narms=narms\n",
    "        self.rho=rho\n",
    "        self.Q = np.full(self.narms,Q0)\n",
    "        self.mu=np.zeros(narms)\n",
    "        self.arm_count=np.zeros(narms)\n",
    "        self.arm_rewards=np.zeros(narms)\n",
    "    \n",
    "    def play(self, tround, context=None):\n",
    "        for arm in range(self.narms):\n",
    "            if self.arm_count[arm]!=0:\n",
    "                self.Q[arm]= self.mu[arm] + np.sqrt((self.rho * np.log(tround)) / float(self.arm_count[arm]))\n",
    "        \n",
    "        max_arms=np.argwhere(self.Q == np.amax(self.Q)).flatten().tolist()\n",
    "        selected_arm=np.random.choice(max_arms)\n",
    "        return selected_arm\n",
    "  \n",
    "        \n",
    "    def update(self, arm, reward, context=None):\n",
    "        self.arm_count[arm]+=1.0\n",
    "        self.arm_rewards[arm]+=reward\n",
    "        if self.arm_count[arm] != 0:\n",
    "            self.mu[arm]=float(self.arm_rewards[arm]) / float(self.arm_count[arm])"
   ]
  },
  {
   "cell_type": "markdown",
   "metadata": {},
   "source": [
    "## 2. Off-Policy Evaluation"
   ]
  },
  {
   "cell_type": "code",
   "execution_count": 6,
   "metadata": {},
   "outputs": [],
   "source": [
    "def offlineEvaluate(mab, arms, rewards, contexts, nrounds=None):\n",
    "    \"\"\"\n",
    "    Offline evaluation of a multi-armed bandit\n",
    "    \n",
    "    Arguments\n",
    "    =========\n",
    "    mab : instance of MAB\n",
    "    \n",
    "    arms : 1D int array, shape (nevents,) \n",
    "        integer arm id for each event\n",
    "    \n",
    "    rewards : 1D float array, shape (nevents,)\n",
    "        reward received for each event\n",
    "    \n",
    "    contexts : 2D float array, shape (nevents, mab.narms*nfeatures)\n",
    "        contexts presented to the arms (stacked horizontally) \n",
    "        for each event.\n",
    "        \n",
    "    nrounds : int\n",
    "        number of matching events to evaluate `mab` on.\n",
    "    \n",
    "    Returns\n",
    "    =======\n",
    "    out : 1D float array\n",
    "        rewards for the matching events\n",
    "    \"\"\"\n",
    "    tround = 0\n",
    "    R = list()\n",
    "    \n",
    "    # if no rounds then we will record all per round rewards\n",
    "    if nrounds is None:\n",
    "        nrounds=len(df)\n",
    "        \n",
    "    for log_event in range(len(df)):\n",
    "        \n",
    "        if tround > nrounds:\n",
    "            break\n",
    "        \n",
    "        arm=mab.play(tround + 1,contexts[log_event]) \n",
    "        predicted_arm=arm + 1 # adding 1 to compensate python array index\n",
    "        if predicted_arm == arms[log_event]:\n",
    "            mab.update(arm, rewards[log_event], contexts[log_event])\n",
    "            R.append(rewards[log_event])\n",
    "            tround += 1\n",
    "    \n",
    "    return R\n",
    "     "
   ]
  },
  {
   "cell_type": "code",
   "execution_count": 7,
   "metadata": {},
   "outputs": [
    {
     "name": "stdout",
     "output_type": "stream",
     "text": [
      "EpsGreedy average reward 0.18976279650436953\n"
     ]
    }
   ],
   "source": [
    "mab = EpsGreedy(10, 0.05)\n",
    "results_EpsGreedy = offlineEvaluate(mab, arms, rewards, contexts, 800)\n",
    "print('EpsGreedy average reward', np.mean(results_EpsGreedy))"
   ]
  },
  {
   "cell_type": "code",
   "execution_count": 30,
   "metadata": {},
   "outputs": [
    {
     "name": "stdout",
     "output_type": "stream",
     "text": [
      "UCB average reward 0.15730337078651685\n"
     ]
    }
   ],
   "source": [
    "mab = UCB(10, 1.0)\n",
    "results_UCB = offlineEvaluate(mab, arms, rewards, contexts, 800)\n",
    "print('UCB average reward', np.mean(results_UCB))"
   ]
  },
  {
   "cell_type": "markdown",
   "metadata": {},
   "source": [
    "## 3. Contextual Bandits"
   ]
  },
  {
   "cell_type": "code",
   "execution_count": 9,
   "metadata": {},
   "outputs": [],
   "source": [
    "class LinUCB(MAB):\n",
    "    \"\"\"\n",
    "    Contextual multi-armed bandit (LinUCB)\n",
    "\n",
    "    Arguments\n",
    "    =========\n",
    "    narms : int\n",
    "        number of arms\n",
    "\n",
    "    ndims : int\n",
    "        number of dimensions for each arm's context\n",
    "\n",
    "    alpha : float\n",
    "        positive real explore-exploit parameter\n",
    "    \"\"\"\n",
    "    \n",
    "    def __init__(self, narms, ndims, alpha):\n",
    "        self.narms=narms\n",
    "        self.alpha=alpha\n",
    "        self.ndims=ndims\n",
    "        self.A=[np.identity(ndims) for arm in range(narms)]\n",
    "        self.b=[np.zeros((ndims,1)) for arm in range(narms)]\n",
    "        \n",
    "             \n",
    "    def play(self, tround, context):\n",
    "        p=np.zeros(self.narms)\n",
    "        for arm in range(self.narms):\n",
    "            x_arm = context[arm*self.narms:arm*self.narms+self.ndims].reshape(-1,1)\n",
    "            theta_hat_arm = np.dot(inv(self.A[arm]), self.b[arm])\n",
    "            p[arm] = np.asscalar(np.dot(theta_hat_arm.T, x_arm) + self.alpha * np.sqrt(np.dot(np.dot(x_arm.T, inv(self.A[arm])), x_arm)))\n",
    "        \n",
    "        max_arms=np.argwhere(p == np.amax(p)).flatten().tolist()\n",
    "        selected_arm=np.random.choice(max_arms)\n",
    "        return selected_arm\n",
    "    \n",
    "    def update(self, arm, reward, context):\n",
    "        x_arm = context[arm*self.narms:arm * self.narms + self.ndims].reshape(-1,1)\n",
    "        self.A[arm] = self.A[arm] + np.dot(x_arm,x_arm.T)\n",
    "        self.b[arm] = self.b[arm] + reward * x_arm"
   ]
  },
  {
   "cell_type": "code",
   "execution_count": 10,
   "metadata": {},
   "outputs": [
    {
     "name": "stdout",
     "output_type": "stream",
     "text": [
      "LinUCB average reward 0.5305867665418227\n"
     ]
    }
   ],
   "source": [
    "mab = LinUCB(10, 10, 1.0)\n",
    "results_LinUCB = offlineEvaluate(mab, arms, rewards, contexts,800)\n",
    "print('LinUCB average reward', np.mean(results_LinUCB))"
   ]
  },
  {
   "cell_type": "markdown",
   "metadata": {},
   "source": [
    "## 4. Evaluation\n",
    "### 4.A."
   ]
  },
  {
   "cell_type": "code",
   "execution_count": 31,
   "metadata": {},
   "outputs": [
    {
     "data": {
      "image/png": "[encoded data removed]",
      "text/plain": [
       "<Figure size 432x288 with 1 Axes>"
      ]
     },
     "metadata": {},
     "output_type": "display_data"
    }
   ],
   "source": [
    "T=800\n",
    "results_EpsGreedy_T=np.zeros(T)\n",
    "results_UCB_T=np.zeros(T)\n",
    "results_LinUCB_T=np.zeros(T)\n",
    "for t in range(T):\n",
    "    results_EpsGreedy_T[t]=float(np.sum(results_EpsGreedy[0:t+1]))/float(t+1)\n",
    "    results_UCB_T[t]=float(np.sum(results_UCB[0:t+1]))/float(t+1)\n",
    "    results_LinUCB_T[t]=float(np.sum(results_LinUCB[0:t+1]))/float(t+1)\n",
    "    \n",
    "\n",
    "plt.plot(results_EpsGreedy_T,label='EpsGreedy')\n",
    "plt.plot(results_UCB_T,label='UCB')\n",
    "plt.plot(results_LinUCB_T,label='LinUCB')\n",
    "plt.legend()\n",
    "plt.title(\"Offline evaluation for Bandit Learners\")\n",
    "plt.xlabel(\"Round\")\n",
    "plt.ylabel(\"Cumulative reward by round\")\n",
    "plt.show()"
   ]
  },
  {
   "cell_type": "markdown",
   "metadata": {},
   "source": [
    "### 4.B."
   ]
  },
  {
   "cell_type": "code",
   "execution_count": 35,
   "metadata": {},
   "outputs": [
    {
     "name": "stdout",
     "output_type": "stream",
     "text": [
      "Best alpha: 0.001  with an average reward of: 0.717852684144819\n"
     ]
    },
    {
     "data": {
      "image/png": "[encoded data removed]",
      "text/plain": [
       "<Figure size 432x288 with 1 Axes>"
      ]
     },
     "metadata": {},
     "output_type": "display_data"
    }
   ],
   "source": [
    "n=20\n",
    "start=0.001\n",
    "top=1.5\n",
    "alpha_search=np.linspace(start, top, n)\n",
    "lin_ucb_eval=list()\n",
    "linucb_eval={}\n",
    "for alpha in alpha_search:\n",
    "    mab = LinUCB(10, 10, alpha)\n",
    "    lin_ucb_eval.append(np.mean(offlineEvaluate(mab, arms, rewards, contexts, 800)))\n",
    "    \n",
    "alpha_eval = dict(zip(alpha_search,lin_ucb_eval))   \n",
    "max_alpha=max(alpha_eval, key=alpha_eval.get)\n",
    "print (\"Best alpha:\",max_alpha, \" with an average reward of:\",alpha_eval[max_alpha])\n",
    "plt.plot(alpha_search,lin_ucb_eval)\n",
    "plt.title(\"Offline evaluation for LinUCB with different alpha\")\n",
    "plt.xlabel(\"Alpha\")\n",
    "plt.ylabel(\"Average Reward\")\n",
    "plt.show()"
   ]
  },
  {
   "cell_type": "code",
   "execution_count": null,
   "metadata": {},
   "outputs": [],
   "source": []
  },
  {
   "cell_type": "markdown",
   "metadata": {},
   "source": [
    "## 5. KernelUCB"
   ]
  },
  {
   "cell_type": "code",
   "execution_count": 13,
   "metadata": {},
   "outputs": [],
   "source": [
    "# Do not edit. Special import for this section.\n",
    "from sklearn.metrics.pairwise import rbf_kernel"
   ]
  },
  {
   "cell_type": "code",
   "execution_count": null,
   "metadata": {},
   "outputs": [],
   "source": [
    "class KernelUCB(MAB):\n",
    "    \"\"\"\n",
    "    Kernelised contextual multi-armed bandit (Kernelised LinUCB)\n",
    "    \n",
    "    Arguments\n",
    "    =========\n",
    "    narms : int\n",
    "        number of arms\n",
    "\n",
    "    ndims : int\n",
    "        number of dimensions for each arm's context\n",
    "\n",
    "    gamma : float\n",
    "        positive real explore-exploit parameter\n",
    "    \n",
    "    eta : float\n",
    "        positive real explore-exploit parameter\n",
    "    \n",
    "    kern : callable\n",
    "        a kernel function from sklearn.metrics.pairwise\n",
    "    \"\"\"\n",
    "    def __init__(self, narms, ndims, gamma, eta, kern):\n",
    "        \n",
    "    \n",
    "    def play(self, tround, context):\n",
    "        \n",
    "    \n",
    "    def update(self, arm, reward, context):\n",
    "        \n",
    "    "
   ]
  }
 ],
 "metadata": {
  "kernelspec": {
   "display_name": "Python [default]",
   "language": "python",
   "name": "python3"
  },
  "language_info": {
   "codemirror_mode": {
    "name": "ipython",
    "version": 3
   },
   "file_extension": ".py",
   "mimetype": "text/x-python",
   "name": "python",
   "nbconvert_exporter": "python",
   "pygments_lexer": "ipython3",
   "version": "3.5.5"
  }
 },
 "nbformat": 4,
 "nbformat_minor": 2
}
